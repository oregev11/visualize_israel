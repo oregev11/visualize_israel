{
 "cells": [
  {
   "cell_type": "code",
   "execution_count": 2,
   "metadata": {},
   "outputs": [],
   "source": [
    "import pandas as pd\n",
    "import numpy as np\n",
    "import re\n",
    "import matplotlib.pyplot as plt\n",
    "import warnings\n",
    "warnings.filterwarnings('ignore')"
   ]
  },
  {
   "cell_type": "markdown",
   "metadata": {},
   "source": [
    "# 1. get a list of all cities in israel"
   ]
  },
  {
   "cell_type": "markdown",
   "metadata": {},
   "source": [
    "This is a pipeline to visualize the local monicipal authorities of Israel on a map using WGS coordinates.\n",
    "In this notebook we will extract the name and code of all cities of Israel from a Lamas (Central Bureau for Statistics) 2018 population report.\n",
    "\n",
    "For simplicity, from here forth the term 'city' will refer to any kind of israely local monicipal authority such as: city, village, kibutz, moshav exct.\n",
    "\n",
    "Note the this table contain ITM (Israeli Transverse Mercator) coordinates. The problem is that converting ITM to WGS is quite a headache, and I found it easier to use the Google API."
   ]
  },
  {
   "cell_type": "code",
   "execution_count": 3,
   "metadata": {},
   "outputs": [],
   "source": [
    "#the bycode2018.xlsx is the israely Central Bureau for Statistics (Lamas) report on population in israel for 2018\n",
    "#The meaning of each featurh can be viewd in the index_2018.csv file\n",
    "#both can bedownloaded here:\n",
    "#https://www.cbs.gov.il/he/publications/Pages/2019/%D7%99%D7%99%D7%A9%D7%95%D7%91%D7%99%D7%9D-%D7%91%D7%99%D7%A9%D7%A8%D7%90%D7%9C.aspx\n",
    "\n"
   ]
  },
  {
   "cell_type": "code",
   "execution_count": 5,
   "metadata": {},
   "outputs": [],
   "source": [
    "file_name = r'..\\csv\\lamas_report_2018.xlsx'\n",
    "israel = pd.read_excel(file_name, encoding='utf-8')"
   ]
  },
  {
   "cell_type": "code",
   "execution_count": 4,
   "metadata": {},
   "outputs": [
    {
     "data": {
      "text/plain": [
       "0                  שם יישוב\n",
       "1                 סמל יישוב\n",
       "2                     תעתיק\n",
       "3                      מחוז\n",
       "4                       נפה\n",
       "5                 אזור טבעי\n",
       "6            מעמד מונציפאלי\n",
       "7           שיוך מטרופוליני\n",
       "8                  דת יישוב\n",
       "9     סך הכל אוכלוסייה 2018\n",
       "10            יהודים ואחרים\n",
       "11              מזה: יהודים\n",
       "12                    ערבים\n",
       "13                שנת ייסוד\n",
       "14         צורת יישוב שוטפת\n",
       "15         השתייכות ארגונית\n",
       "16              קואורדינטות\n",
       "17                     גובה\n",
       "18               ועדת תכנון\n",
       "19               מרחב משטרה\n",
       "20                      שנה\n",
       "21         שם יישוב באנגלית\n",
       "22     אשכול רשויות מקומיות\n",
       "dtype: object"
      ]
     },
     "execution_count": 4,
     "metadata": {},
     "output_type": "execute_result"
    }
   ],
   "source": [
    "#extract the hebrew index from the lamas file\n",
    "heb_index=pd.Series(israel.columns)\n",
    "heb_index"
   ]
  },
  {
   "cell_type": "code",
   "execution_count": 5,
   "metadata": {
    "scrolled": true
   },
   "outputs": [
    {
     "data": {
      "text/html": [
       "<div>\n",
       "<style scoped>\n",
       "    .dataframe tbody tr th:only-of-type {\n",
       "        vertical-align: middle;\n",
       "    }\n",
       "\n",
       "    .dataframe tbody tr th {\n",
       "        vertical-align: top;\n",
       "    }\n",
       "\n",
       "    .dataframe thead th {\n",
       "        text-align: right;\n",
       "    }\n",
       "</style>\n",
       "<table border=\"1\" class=\"dataframe\">\n",
       "  <thead>\n",
       "    <tr style=\"text-align: right;\">\n",
       "      <th></th>\n",
       "      <th>name</th>\n",
       "    </tr>\n",
       "    <tr>\n",
       "      <th>code</th>\n",
       "      <th></th>\n",
       "    </tr>\n",
       "  </thead>\n",
       "  <tbody>\n",
       "    <tr>\n",
       "      <th>967</th>\n",
       "      <td>Abu Juway'ad</td>\n",
       "    </tr>\n",
       "    <tr>\n",
       "      <th>472</th>\n",
       "      <td>Abu Ghosh</td>\n",
       "    </tr>\n",
       "    <tr>\n",
       "      <th>473</th>\n",
       "      <td>Abu Sinan</td>\n",
       "    </tr>\n",
       "    <tr>\n",
       "      <th>935</th>\n",
       "      <td>Abu Surayhan</td>\n",
       "    </tr>\n",
       "    <tr>\n",
       "      <th>958</th>\n",
       "      <td>Abu 'Abdun</td>\n",
       "    </tr>\n",
       "  </tbody>\n",
       "</table>\n",
       "</div>"
      ],
      "text/plain": [
       "              name\n",
       "code              \n",
       "967   Abu Juway'ad\n",
       "472      Abu Ghosh\n",
       "473      Abu Sinan\n",
       "935   Abu Surayhan\n",
       "958     Abu 'Abdun"
      ]
     },
     "execution_count": 5,
     "metadata": {},
     "output_type": "execute_result"
    }
   ],
   "source": [
    "#From the Lamas file I took 2 features: The english name and the ID code of each city. The code will be used as index and\n",
    "#will help us retrive data from the Lamas table later on\n",
    "engDF = israel[heb_index[[1, 21]]]\n",
    "\n",
    "# name it\n",
    "engDF.columns = ['code', 'name']\n",
    "\n",
    "#drop missing values \n",
    "engDF.dropna(inplace = True)\n",
    "\n",
    "#reindex the array\n",
    "engDF.index = engDF['code']\n",
    "\n",
    "#drop the code column\n",
    "engDF.drop(labels = 'code', axis = 1, inplace =True)\n",
    "\n",
    "\n",
    "engDF.head()"
   ]
  },
  {
   "cell_type": "markdown",
   "metadata": {},
   "source": [
    "# 2. get WGS coordinates using GMAPS API"
   ]
  },
  {
   "cell_type": "code",
   "execution_count": 6,
   "metadata": {},
   "outputs": [],
   "source": [
    "#to run google API of any kind, go to \"google cloud\", enter a billing method and generate API for the task you need.\n",
    "#note that this service costs money, but google give you free trials.\n",
    "\n",
    "#This is a simple function that gets a df of adressess and return same df with latitude and longitude WGS coordinates\n",
    "\n",
    "\n",
    "from googlemaps import Client as GoogleMaps\n",
    "import pandas as pd\n",
    "import warnings\n",
    "warnings.filterwarnings('ignore')\n",
    "\n",
    "\n",
    "\n",
    "#define a func to work with\n",
    "def getWGS(engDF):\n",
    "    '''\n",
    "    INPUT - a df with a 'name' column - to be used as adresss \n",
    "    OUTPUT - a df with 3 cols: name, lat and lon\n",
    "    '''\n",
    "    #start an GMAPS API session\n",
    "    #assign google key - You should generate a key by going manually to your google cloud -> API section\n",
    "\n",
    "    gmaps = GoogleMaps('Enter Your key here')\n",
    "    \n",
    "    #copy the adressess to a new df and add lat and long columns\n",
    "    df = pd.DataFrame()\n",
    "    df= engDF.copy()\n",
    "    df['lat'] = np.nan\n",
    "    df['long'] = np.nan\n",
    "    \n",
    "    #manipulate address - here you can add any string to your addressess to help google maps find them\n",
    "    df['nameIL'] = df['name'] + ', Israel'\n",
    "    google_errors = []\n",
    "    \n",
    "    #itterate over the adressess and getthe coordinates. \n",
    "    for x in df.index.values:\n",
    "        try:\n",
    "            print(f'Starting round {x} of {len(df)-1}')\n",
    "            geocode_result = gmaps.geocode(df['nameIL'][x])\n",
    "            df['lat'][x] = geocode_result[0]['geometry']['location'] ['lat']\n",
    "            df['long'][x] = geocode_result[0]['geometry']['location']['lng']\n",
    "            print(df['lat'][x], df['long'][x])\n",
    "        except:\n",
    "            google_errors.append(df['name'][x])\n",
    "    \n",
    "    return df, google_errors\n",
    "\n"
   ]
  },
  {
   "cell_type": "code",
   "execution_count": 7,
   "metadata": {},
   "outputs": [
    {
     "name": "stdout",
     "output_type": "stream",
     "text": [
      "Starting round 967 of 3\n",
      "Starting round 472 of 3\n",
      "Starting round 473 of 3\n",
      "Starting round 935 of 3\n"
     ]
    }
   ],
   "source": [
    "#as any query to the API costs money (potentialy), it is better to try it first with a small test batch\n",
    "\n",
    "#get the coordinates\n",
    "google_results = getWGS(engDF.iloc[:4, :])\n",
    "\n",
    "#if it works well - do it for the whole set:\n",
    "#google_results = getWGS(engDF)"
   ]
  },
  {
   "cell_type": "code",
   "execution_count": 8,
   "metadata": {},
   "outputs": [
    {
     "data": {
      "text/html": [
       "<div>\n",
       "<style scoped>\n",
       "    .dataframe tbody tr th:only-of-type {\n",
       "        vertical-align: middle;\n",
       "    }\n",
       "\n",
       "    .dataframe tbody tr th {\n",
       "        vertical-align: top;\n",
       "    }\n",
       "\n",
       "    .dataframe thead th {\n",
       "        text-align: right;\n",
       "    }\n",
       "</style>\n",
       "<table border=\"1\" class=\"dataframe\">\n",
       "  <thead>\n",
       "    <tr style=\"text-align: right;\">\n",
       "      <th></th>\n",
       "      <th>name</th>\n",
       "      <th>lat</th>\n",
       "      <th>long</th>\n",
       "      <th>nameIL</th>\n",
       "    </tr>\n",
       "    <tr>\n",
       "      <th>code</th>\n",
       "      <th></th>\n",
       "      <th></th>\n",
       "      <th></th>\n",
       "      <th></th>\n",
       "    </tr>\n",
       "  </thead>\n",
       "  <tbody>\n",
       "    <tr>\n",
       "      <th>967</th>\n",
       "      <td>Abu Juway'ad</td>\n",
       "      <td>NaN</td>\n",
       "      <td>NaN</td>\n",
       "      <td>Abu Juway'ad, Israel</td>\n",
       "    </tr>\n",
       "    <tr>\n",
       "      <th>472</th>\n",
       "      <td>Abu Ghosh</td>\n",
       "      <td>NaN</td>\n",
       "      <td>NaN</td>\n",
       "      <td>Abu Ghosh, Israel</td>\n",
       "    </tr>\n",
       "    <tr>\n",
       "      <th>473</th>\n",
       "      <td>Abu Sinan</td>\n",
       "      <td>NaN</td>\n",
       "      <td>NaN</td>\n",
       "      <td>Abu Sinan, Israel</td>\n",
       "    </tr>\n",
       "    <tr>\n",
       "      <th>935</th>\n",
       "      <td>Abu Surayhan</td>\n",
       "      <td>NaN</td>\n",
       "      <td>NaN</td>\n",
       "      <td>Abu Surayhan, Israel</td>\n",
       "    </tr>\n",
       "  </tbody>\n",
       "</table>\n",
       "</div>"
      ],
      "text/plain": [
       "              name  lat  long                nameIL\n",
       "code                                               \n",
       "967   Abu Juway'ad  NaN   NaN  Abu Juway'ad, Israel\n",
       "472      Abu Ghosh  NaN   NaN     Abu Ghosh, Israel\n",
       "473      Abu Sinan  NaN   NaN     Abu Sinan, Israel\n",
       "935   Abu Surayhan  NaN   NaN  Abu Surayhan, Israel"
      ]
     },
     "execution_count": 8,
     "metadata": {},
     "output_type": "execute_result"
    }
   ],
   "source": [
    "google_results[0]"
   ]
  },
  {
   "cell_type": "code",
   "execution_count": 9,
   "metadata": {},
   "outputs": [],
   "source": [
    "#save your results\n",
    "#google_results[0].to_csv(r'..\\csv\\israel_with_lamas_codes_wgs.csv')\n",
    "\n"
   ]
  },
  {
   "cell_type": "markdown",
   "metadata": {},
   "source": [
    "I review the results manualy. \n",
    "\n",
    "For some cities I saw lat/long way out of range - so i added them manually.\n",
    "\n",
    "The missing values were mostly beduwin small vilages, most of the I also couldn't find mannualy on GMPAS.\n",
    "\n",
    "But generaly - It looks good!"
   ]
  },
  {
   "cell_type": "code",
   "execution_count": null,
   "metadata": {},
   "outputs": [],
   "source": []
  }
 ],
 "metadata": {
  "kernelspec": {
   "display_name": "Python 3",
   "language": "python",
   "name": "python3"
  },
  "language_info": {
   "codemirror_mode": {
    "name": "ipython",
    "version": 3
   },
   "file_extension": ".py",
   "mimetype": "text/x-python",
   "name": "python",
   "nbconvert_exporter": "python",
   "pygments_lexer": "ipython3",
   "version": "3.7.3"
  }
 },
 "nbformat": 4,
 "nbformat_minor": 2
}
